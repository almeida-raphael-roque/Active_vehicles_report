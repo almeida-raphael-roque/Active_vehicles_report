{
 "cells": [
  {
   "cell_type": "code",
   "execution_count": 35,
   "metadata": {},
   "outputs": [],
   "source": [
    "import pandas as pd\n",
    "import openpyxl\n"
   ]
  },
  {
   "cell_type": "code",
   "execution_count": 10,
   "metadata": {},
   "outputs": [],
   "source": [
    "excel_path = r\"C:\\Users\\raphael.almeida\\Documents\\Processos\\ativacoes_placas\\acompanhamento_placas.xlsx\"\n",
    "\n",
    "df_ativadas = pd.read_excel(excel_path, sheet_name='Ativadas', engine='openpyxl')\n",
    "df_movimentacao = pd.read_excel(excel_path, sheet_name='Movimentações', engine='openpyxl')\n",
    "df_canceladas = pd.read_excel(excel_path, sheet_name='Canceladas', engine='openpyxl')"
   ]
  },
  {
   "cell_type": "markdown",
   "metadata": {},
   "source": [
    "placas movimentação Segtruck"
   ]
  },
  {
   "cell_type": "code",
   "execution_count": 25,
   "metadata": {},
   "outputs": [
    {
     "name": "stdout",
     "output_type": "stream",
     "text": [
      "0 2 2 6\n"
     ]
    }
   ],
   "source": [
    "df_movimentacao.drop_duplicates()\n",
    "\n",
    "NOVO_Segtruck = len(\n",
    "    df_movimentacao[\n",
    "        (df_movimentacao['status'] == 'NOVO')&\n",
    "        (df_movimentacao['cooperativa'] == 'Segtruck')\n",
    "    ]\n",
    ")\n",
    "\n",
    "RENOVAÇÃO_Segtruck = len(\n",
    "    df_movimentacao[\n",
    "        (df_movimentacao['status'] == 'RENOVAÇÃO')&\n",
    "        (df_movimentacao['cooperativa'] == 'Segtruck')\n",
    "    ]\n",
    ")\n",
    "\n",
    "MIGRAÇÃO_Segtruck = len(\n",
    "    df_movimentacao[\n",
    "        (df_movimentacao['status'] == 'MIGRAÇÃO')&\n",
    "        (df_movimentacao['cooperativa'] == 'Segtruck')\n",
    "    ]\n",
    ")\n",
    "\n",
    "df_canceladas.drop_duplicates()\n",
    "CANCELADAS_Segtruck = len(df_canceladas[df_canceladas['cooperativa']=='Segtruck'])\n",
    "\n",
    "print(\n",
    "    NOVO_Segtruck,\n",
    "    RENOVAÇÃO_Segtruck,\n",
    "    MIGRAÇÃO_Segtruck,\n",
    "    CANCELADAS_Segtruck\n",
    ")"
   ]
  },
  {
   "cell_type": "markdown",
   "metadata": {},
   "source": [
    "placas movimentação Stcoop"
   ]
  },
  {
   "cell_type": "code",
   "execution_count": 24,
   "metadata": {},
   "outputs": [
    {
     "name": "stdout",
     "output_type": "stream",
     "text": [
      "0 5 4 88\n"
     ]
    }
   ],
   "source": [
    "df_movimentacao.drop_duplicates()\n",
    "\n",
    "NOVO_Stcoop = len(\n",
    "    df_movimentacao[\n",
    "        (df_movimentacao['status'] == 'NOVO')&\n",
    "        (df_movimentacao['cooperativa'] == 'Stcoop')\n",
    "    ]\n",
    ")\n",
    "\n",
    "RENOVAÇÃO_Stcoop = len(\n",
    "    df_movimentacao[\n",
    "        (df_movimentacao['status'] == 'RENOVAÇÃO')&\n",
    "        (df_movimentacao['cooperativa'] == 'Stcoop')\n",
    "    ]\n",
    ")\n",
    "\n",
    "MIGRAÇÃO_Stcoop = len(\n",
    "    df_movimentacao[\n",
    "        (df_movimentacao['status'] == 'MIGRAÇÃO')&\n",
    "        (df_movimentacao['cooperativa'] == 'Stcoop')\n",
    "    ]\n",
    ")\n",
    "\n",
    "df_canceladas.drop_duplicates()\n",
    "CANCELADAS_Stcoop = len(df_canceladas[df_canceladas['cooperativa']=='Stcoop'])\n",
    "\n",
    "print(\n",
    "    NOVO_Stcoop,\n",
    "    RENOVAÇÃO_Stcoop,\n",
    "    MIGRAÇÃO_Stcoop,\n",
    "    CANCELADAS_Stcoop\n",
    ")"
   ]
  },
  {
   "cell_type": "markdown",
   "metadata": {},
   "source": [
    "placas movimentação Viavante"
   ]
  },
  {
   "cell_type": "code",
   "execution_count": 26,
   "metadata": {},
   "outputs": [
    {
     "name": "stdout",
     "output_type": "stream",
     "text": [
      "95 3 53 26\n"
     ]
    }
   ],
   "source": [
    "df_movimentacao.drop_duplicates()\n",
    "\n",
    "NOVO_Viavante = len(\n",
    "    df_movimentacao[\n",
    "        (df_movimentacao['status'] == 'NOVO')&\n",
    "        (df_movimentacao['cooperativa'] == 'Viavante')\n",
    "    ]\n",
    ")\n",
    "\n",
    "RENOVAÇÃO_Viavante = len(\n",
    "    df_movimentacao[\n",
    "        (df_movimentacao['status'] == 'RENOVAÇÃO')&\n",
    "        (df_movimentacao['cooperativa'] == 'Viavante')\n",
    "    ]\n",
    ")\n",
    "\n",
    "MIGRAÇÃO_Viavante = len(\n",
    "    df_movimentacao[\n",
    "        (df_movimentacao['status'] == 'MIGRAÇÃO')&\n",
    "        (df_movimentacao['cooperativa'] == 'Viavante')\n",
    "    ]\n",
    ")\n",
    "\n",
    "df_canceladas.drop_duplicates()\n",
    "CANCELADAS_Viavante = len(df_canceladas[df_canceladas['cooperativa']=='Viavante'])\n",
    "\n",
    "print(\n",
    "    NOVO_Viavante,\n",
    "    RENOVAÇÃO_Viavante,\n",
    "    MIGRAÇÃO_Viavante,\n",
    "    CANCELADAS_Viavante\n",
    ")"
   ]
  },
  {
   "cell_type": "markdown",
   "metadata": {},
   "source": [
    "movimentação gerais"
   ]
  },
  {
   "cell_type": "code",
   "execution_count": 29,
   "metadata": {},
   "outputs": [
    {
     "name": "stdout",
     "output_type": "stream",
     "text": [
      "95 10 59 120\n"
     ]
    }
   ],
   "source": [
    "geral_novas=NOVO_Viavante+NOVO_Stcoop+NOVO_Segtruck\n",
    "geral_renovadas=RENOVAÇÃO_Viavante+RENOVAÇÃO_Stcoop+RENOVAÇÃO_Segtruck\n",
    "geral_migracao=MIGRAÇÃO_Viavante+MIGRAÇÃO_Stcoop+MIGRAÇÃO_Segtruck\n",
    "geral_canceladas=CANCELADAS_Viavante+CANCELADAS_Stcoop+CANCELADAS_Segtruck\n",
    "\n",
    "print(\n",
    "    geral_novas,\n",
    "    geral_renovadas,\n",
    "    geral_migracao,\n",
    "    geral_canceladas\n",
    ")\n"
   ]
  },
  {
   "cell_type": "markdown",
   "metadata": {},
   "source": [
    "placas gerais"
   ]
  },
  {
   "cell_type": "code",
   "execution_count": 27,
   "metadata": {},
   "outputs": [
    {
     "name": "stdout",
     "output_type": "stream",
     "text": [
      "28574 2883 6991 18700\n"
     ]
    }
   ],
   "source": [
    "df_ativadas.drop_duplicates()\n",
    "\n",
    "geral_hoje = len(df_ativadas[df_ativadas['status']=='ATIVO'])\n",
    "\n",
    "geral_segtruck = len(\n",
    "    df_ativadas[\n",
    "    (df_ativadas['status']=='ATIVO')&\n",
    "    (df_ativadas['cooperativa']=='Segtruck')\n",
    "    ]\n",
    ")\n",
    "\n",
    "geral_stcoop = len(\n",
    "    df_ativadas[\n",
    "    (df_ativadas['status']=='ATIVO')&\n",
    "    (df_ativadas['cooperativa']=='Stcoop')\n",
    "    ]\n",
    ")\n",
    "\n",
    "geral_viavante = len(\n",
    "    df_ativadas[\n",
    "    (df_ativadas['status']=='ATIVO')&\n",
    "    (df_ativadas['cooperativa']=='Viavante')\n",
    "    ]\n",
    ")\n",
    "\n",
    "print(\n",
    "    geral_hoje,\n",
    "    geral_segtruck,\n",
    "    geral_stcoop,\n",
    "    geral_viavante\n",
    ")\n"
   ]
  },
  {
   "cell_type": "markdown",
   "metadata": {},
   "source": [
    "informações relevantes"
   ]
  },
  {
   "cell_type": "code",
   "execution_count": 30,
   "metadata": {},
   "outputs": [
    {
     "name": "stdout",
     "output_type": "stream",
     "text": [
      "28574 28599 -25\n"
     ]
    }
   ],
   "source": [
    "geral_ontem = geral_hoje - geral_novas + geral_canceladas\n",
    "saldo = geral_hoje - geral_ontem\n",
    "print(\n",
    "    geral_hoje,\n",
    "    geral_ontem,\n",
    "    saldo\n",
    "    )"
   ]
  },
  {
   "cell_type": "markdown",
   "metadata": {},
   "source": [
    "e-mail"
   ]
  },
  {
   "cell_type": "code",
   "execution_count": 33,
   "metadata": {},
   "outputs": [
    {
     "name": "stdout",
     "output_type": "stream",
     "text": [
      "Requirement already satisfied: pywin32 in c:\\users\\raphael.almeida\\appdata\\roaming\\python\\python312\\site-packages (306)\n"
     ]
    },
    {
     "name": "stderr",
     "output_type": "stream",
     "text": [
      "\n",
      "[notice] A new release of pip is available: 24.0 -> 25.0.1\n",
      "[notice] To update, run: python.exe -m pip install --upgrade pip\n"
     ]
    }
   ],
   "source": [
    "!pip install pywin32"
   ]
  },
  {
   "cell_type": "code",
   "execution_count": null,
   "metadata": {},
   "outputs": [],
   "source": []
  }
 ],
 "metadata": {
  "kernelspec": {
   "display_name": "Python 3",
   "language": "python",
   "name": "python3"
  },
  "language_info": {
   "codemirror_mode": {
    "name": "ipython",
    "version": 3
   },
   "file_extension": ".py",
   "mimetype": "text/x-python",
   "name": "python",
   "nbconvert_exporter": "python",
   "pygments_lexer": "ipython3",
   "version": "3.12.4"
  }
 },
 "nbformat": 4,
 "nbformat_minor": 2
}
