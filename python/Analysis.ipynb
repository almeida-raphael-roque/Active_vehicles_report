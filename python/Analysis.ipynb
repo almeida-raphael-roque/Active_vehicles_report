{
 "cells": [
  {
   "cell_type": "code",
   "execution_count": 1,
   "metadata": {},
   "outputs": [],
   "source": [
    "import pandas as pd\n",
    "import openpyxl\n"
   ]
  },
  {
   "cell_type": "code",
   "execution_count": 4,
   "metadata": {},
   "outputs": [],
   "source": [
    "excel_path = r\"C:\\Users\\raphael.almeida\\Documents\\Processos\\ativacoes_placas\\acompanhamento_placas.xlsx\"\n",
    "\n",
    "df_ativadas = pd.read_excel(excel_path, sheet_name='Ativadas', engine='openpyxl')\n",
    "df_movimentacao = pd.read_excel(excel_path, sheet_name='Movimentações', engine='openpyxl')\n",
    "df_canceladas = pd.read_excel(excel_path, sheet_name='Canceladas', engine='openpyxl')"
   ]
  },
  {
   "cell_type": "markdown",
   "metadata": {},
   "source": [
    "placas movimentação Segtruck"
   ]
  },
  {
   "cell_type": "code",
   "execution_count": 5,
   "metadata": {},
   "outputs": [
    {
     "name": "stdout",
     "output_type": "stream",
     "text": [
      "0 0 0 23\n"
     ]
    }
   ],
   "source": [
    "df_movimentacao.drop_duplicates()\n",
    "\n",
    "NOVO_Segtruck = len(\n",
    "    df_movimentacao[\n",
    "        (df_movimentacao['status'] == 'NOVO')&\n",
    "        (df_movimentacao['cooperativa'] == 'Segtruck')\n",
    "    ]\n",
    ")\n",
    "\n",
    "RENOVAÇÃO_Segtruck = len(\n",
    "    df_movimentacao[\n",
    "        (df_movimentacao['status'] == 'RENOVAÇÃO')&\n",
    "        (df_movimentacao['cooperativa'] == 'Segtruck')\n",
    "    ]\n",
    ")\n",
    "\n",
    "MIGRAÇÃO_Segtruck = len(\n",
    "    df_movimentacao[\n",
    "        (df_movimentacao['status'] == 'MIGRAÇÃO')&\n",
    "        (df_movimentacao['cooperativa'] == 'Segtruck')\n",
    "    ]\n",
    ")\n",
    "\n",
    "df_canceladas.drop_duplicates()\n",
    "CANCELADAS_Segtruck = len(df_canceladas[\n",
    "    (df_canceladas['cooperativa']=='Segtruck')&\n",
    "    (df_canceladas['status']=='CANCELADO')\n",
    "    ]\n",
    ")\n",
    "\n",
    "print(\n",
    "    NOVO_Segtruck,\n",
    "    RENOVAÇÃO_Segtruck,\n",
    "    MIGRAÇÃO_Segtruck,\n",
    "    CANCELADAS_Segtruck\n",
    ")"
   ]
  },
  {
   "cell_type": "markdown",
   "metadata": {},
   "source": [
    "placas movimentação Stcoop"
   ]
  },
  {
   "cell_type": "code",
   "execution_count": null,
   "metadata": {},
   "outputs": [
    {
     "name": "stdout",
     "output_type": "stream",
     "text": [
      "0 12 3 72\n"
     ]
    }
   ],
   "source": [
    "df_movimentacao.drop_duplicates()\n",
    "\n",
    "NOVO_Stcoop = len(\n",
    "    df_movimentacao[\n",
    "        (df_movimentacao['status'] == 'NOVO')&\n",
    "        (df_movimentacao['cooperativa'] == 'Stcoop')\n",
    "    ]\n",
    ")\n",
    "\n",
    "RENOVAÇÃO_Stcoop = len(\n",
    "    df_movimentacao[\n",
    "        (df_movimentacao['status'] == 'RENOVAÇÃO')&\n",
    "        (df_movimentacao['cooperativa'] == 'Stcoop')\n",
    "    ]\n",
    ")\n",
    "\n",
    "MIGRAÇÃO_Stcoop = len(\n",
    "    df_movimentacao[\n",
    "        (df_movimentacao['status'] == 'MIGRAÇÃO')&\n",
    "        (df_movimentacao['cooperativa'] == 'Stcoop')\n",
    "    ]\n",
    ")\n",
    "\n",
    "df_canceladas.drop_duplicates()\n",
    "CANCELADAS_Stcoop = len(df_canceladas[\n",
    "    (df_canceladas['cooperativa']=='Stcoop')&\n",
    "    (df_canceladas['status']=='CANCELADO')\n",
    "    ]\n",
    ")\n",
    "\n",
    "print(\n",
    "    NOVO_Stcoop,\n",
    "    RENOVAÇÃO_Stcoop,\n",
    "    MIGRAÇÃO_Stcoop,\n",
    "    CANCELADAS_Stcoop\n",
    ")"
   ]
  },
  {
   "cell_type": "markdown",
   "metadata": {},
   "source": [
    "placas movimentação Viavante"
   ]
  },
  {
   "cell_type": "code",
   "execution_count": 7,
   "metadata": {},
   "outputs": [
    {
     "name": "stdout",
     "output_type": "stream",
     "text": [
      "137 0 82 105\n"
     ]
    }
   ],
   "source": [
    "df_movimentacao.drop_duplicates()\n",
    "\n",
    "NOVO_Viavante = len(\n",
    "    df_movimentacao[\n",
    "        (df_movimentacao['status'] == 'NOVO')&\n",
    "        (df_movimentacao['cooperativa'] == 'Viavante')\n",
    "    ]\n",
    ")\n",
    "\n",
    "RENOVAÇÃO_Viavante = len(\n",
    "    df_movimentacao[\n",
    "        (df_movimentacao['status'] == 'RENOVAÇÃO')&\n",
    "        (df_movimentacao['cooperativa'] == 'Viavante')\n",
    "    ]\n",
    ")\n",
    "\n",
    "MIGRAÇÃO_Viavante = len(\n",
    "    df_movimentacao[\n",
    "        (df_movimentacao['status'] == 'MIGRAÇÃO')&\n",
    "        (df_movimentacao['cooperativa'] == 'Viavante')\n",
    "    ]\n",
    ")\n",
    "\n",
    "df_canceladas.drop_duplicates()\n",
    "CANCELADAS_Viavante = len(df_canceladas[\n",
    "    (df_canceladas['cooperativa']=='Viavante')&\n",
    "    (df_canceladas['status']=='CANCELADO')\n",
    "    ]\n",
    ")\n",
    "    \n",
    "\n",
    "print(\n",
    "    NOVO_Viavante,\n",
    "    RENOVAÇÃO_Viavante,\n",
    "    MIGRAÇÃO_Viavante,\n",
    "    CANCELADAS_Viavante\n",
    ")"
   ]
  },
  {
   "cell_type": "markdown",
   "metadata": {},
   "source": [
    "movimentação gerais"
   ]
  },
  {
   "cell_type": "code",
   "execution_count": 8,
   "metadata": {},
   "outputs": [
    {
     "name": "stdout",
     "output_type": "stream",
     "text": [
      "137 12 85 200\n"
     ]
    }
   ],
   "source": [
    "geral_novas=NOVO_Viavante+NOVO_Stcoop+NOVO_Segtruck\n",
    "geral_renovadas=RENOVAÇÃO_Viavante+RENOVAÇÃO_Stcoop+RENOVAÇÃO_Segtruck\n",
    "geral_migracao=MIGRAÇÃO_Viavante+MIGRAÇÃO_Stcoop+MIGRAÇÃO_Segtruck\n",
    "geral_canceladas=CANCELADAS_Viavante+CANCELADAS_Stcoop+CANCELADAS_Segtruck\n",
    "\n",
    "print(\n",
    "    geral_novas,\n",
    "    geral_renovadas,\n",
    "    geral_migracao,\n",
    "    geral_canceladas\n",
    ")\n"
   ]
  },
  {
   "cell_type": "markdown",
   "metadata": {},
   "source": [
    "placas gerais"
   ]
  },
  {
   "cell_type": "code",
   "execution_count": 9,
   "metadata": {},
   "outputs": [
    {
     "name": "stdout",
     "output_type": "stream",
     "text": [
      "28724 2788 6933 19003\n"
     ]
    }
   ],
   "source": [
    "df_ativadas.drop_duplicates()\n",
    "\n",
    "geral_hoje = len(df_ativadas[df_ativadas['status']=='ATIVO'])\n",
    "\n",
    "geral_segtruck = len(\n",
    "    df_ativadas[\n",
    "    (df_ativadas['status']=='ATIVO')&\n",
    "    (df_ativadas['cooperativa']=='Segtruck')\n",
    "    ]\n",
    ")\n",
    "\n",
    "geral_stcoop = len(\n",
    "    df_ativadas[\n",
    "    (df_ativadas['status']=='ATIVO')&\n",
    "    (df_ativadas['cooperativa']=='Stcoop')\n",
    "    ]\n",
    ")\n",
    "\n",
    "geral_viavante = len(\n",
    "    df_ativadas[\n",
    "    (df_ativadas['status']=='ATIVO')&\n",
    "    (df_ativadas['cooperativa']=='Viavante')\n",
    "    ]\n",
    ")\n",
    "\n",
    "print(\n",
    "    geral_hoje,\n",
    "    geral_segtruck,\n",
    "    geral_stcoop,\n",
    "    geral_viavante\n",
    ")\n"
   ]
  },
  {
   "cell_type": "markdown",
   "metadata": {},
   "source": [
    "informações relevantes"
   ]
  },
  {
   "cell_type": "code",
   "execution_count": 10,
   "metadata": {},
   "outputs": [
    {
     "name": "stdout",
     "output_type": "stream",
     "text": [
      "28724 28787 -63\n"
     ]
    }
   ],
   "source": [
    "geral_ontem = geral_hoje - geral_novas + geral_canceladas\n",
    "saldo = geral_hoje - geral_ontem\n",
    "print(\n",
    "    geral_hoje,\n",
    "    geral_ontem,\n",
    "    saldo\n",
    "    )"
   ]
  },
  {
   "cell_type": "markdown",
   "metadata": {},
   "source": [
    "tabela dataframe"
   ]
  },
  {
   "cell_type": "code",
   "execution_count": 11,
   "metadata": {},
   "outputs": [
    {
     "name": "stderr",
     "output_type": "stream",
     "text": [
      "C:\\Users\\raphael.almeida\\AppData\\Local\\Temp\\ipykernel_29036\\1284809246.py:9: FutureWarning: DataFrame.applymap has been deprecated. Use DataFrame.map instead.\n",
      "  tabela_df = tabela_df.applymap(lambda x: f\"{x:,.0f}\".replace(',', '.') if isinstance(x, (int, float)) else x)\n"
     ]
    }
   ],
   "source": [
    "índices = ['Novas', 'Renovadas', 'Migração', 'Canceladas', 'Total Empresa']\n",
    "tabela = {'Segtruck': [NOVO_Segtruck, RENOVAÇÃO_Segtruck, MIGRAÇÃO_Segtruck, CANCELADAS_Segtruck, geral_segtruck],\n",
    "              'Stcoop': [NOVO_Stcoop, RENOVAÇÃO_Stcoop, MIGRAÇÃO_Stcoop, CANCELADAS_Stcoop, geral_stcoop],\n",
    "              'Viavante': [NOVO_Viavante, RENOVAÇÃO_Viavante, MIGRAÇÃO_Viavante, CANCELADAS_Viavante, geral_viavante],\n",
    "              'Total': [geral_novas, geral_renovadas, geral_migracao, geral_canceladas, geral_hoje]}\n",
    "\n",
    "tabela_df = pd.DataFrame(tabela, index = índices)\n",
    "\n",
    "tabela_df = tabela_df.applymap(lambda x: f\"{x:,.0f}\".replace(',', '.') if isinstance(x, (int, float)) else x)\n",
    "\n",
    "\n"
   ]
  },
  {
   "cell_type": "markdown",
   "metadata": {},
   "source": [
    "tabela html"
   ]
  },
  {
   "cell_type": "code",
   "execution_count": 10,
   "metadata": {},
   "outputs": [
    {
     "name": "stderr",
     "output_type": "stream",
     "text": [
      "C:\\Users\\raphael.almeida\\AppData\\Local\\Temp\\ipykernel_14056\\2055274637.py:1: DeprecationWarning: Importing display from IPython.core.display is deprecated since IPython 7.14, please import from IPython display\n",
      "  from IPython.core.display import display, HTML\n"
     ]
    },
    {
     "data": {
      "text/html": [
       "<style>/* Estiliza o cabeÃ§alho das colunas, o Ã­ndice, a Ãºltima coluna e a Ãºltima linha */\n",
       ".tabela thead th, \n",
       ".tabela tbody th, \n",
       ".tabela td:last-child, \n",
       ".tabela tbody tr:last-child td {\n",
       "    background-color: #f0f0f0; /* Cinza claro */\n",
       "    color: black; /* Fonte preta */\n",
       "    font-weight: bold; /* Negrito */\n",
       "    text-align: center; /* Centraliza os cabeÃ§alhos e as cÃ©lulas */\n",
       "}\n",
       "\n",
       "/* Estiliza todas as outras cÃ©lulas */\n",
       ".tabela td {\n",
       "    background-color: white; /* Fundo branco */\n",
       "    color: black; /* Fonte preta */\n",
       "    text-align: center; /* Centraliza os valores */\n",
       "}\n",
       "\n",
       "/* Estiliza a cÃ©lula do total geral (interseÃ§Ã£o da Ãºltima linha e Ãºltima coluna) */\n",
       ".tabela tbody tr:last-child td:last-child {\n",
       "    background-color: #404040; /* Cinza escuro */\n",
       "    color: white; /* Texto branco */\n",
       "    font-weight: bold;\n",
       "}\n",
       "\n",
       "/* Adiciona uma linha superior Ã  Ãºltima linha da tabela */\n",
       ".tabela tbody tr:last-child {\n",
       "    border-top: 2px solid #404040; /* Borda superior cinza escuro */\n",
       "}\n",
       "\n",
       "/* Adiciona bordas suaves entre as cÃ©lulas */\n",
       ".tabela th, \n",
       ".tabela td {\n",
       "    border: 1px solid #d9d9d9; /* Cinza claro */\n",
       "    border-collapse: collapse;\n",
       "}\n",
       "\n",
       "/* Garante espaÃ§amento e formataÃ§Ã£o das cÃ©lulas */\n",
       ".tabela {\n",
       "    border-spacing: 0;\n",
       "    border-collapse: collapse;\n",
       "    border: 2px solid #404040; /* Borda cinza escuro ao redor da tabela */\n",
       "}\n",
       "\n",
       "/* Formata os valores numÃ©ricos para terem duas casas decimais */\n",
       ".tabela td {\n",
       "    font-variant-numeric: tabular-nums;\n",
       "}\n",
       "</style><table border=\"1\" class=\"dataframe tabela\">\n",
       "  <thead>\n",
       "    <tr style=\"text-align: right;\">\n",
       "      <th></th>\n",
       "      <th>Segtruck</th>\n",
       "      <th>Stcoop</th>\n",
       "      <th>Viavante</th>\n",
       "      <th>Total</th>\n",
       "    </tr>\n",
       "  </thead>\n",
       "  <tbody>\n",
       "    <tr>\n",
       "      <th>Novas</th>\n",
       "      <td>0</td>\n",
       "      <td>0</td>\n",
       "      <td>137</td>\n",
       "      <td>137</td>\n",
       "    </tr>\n",
       "    <tr>\n",
       "      <th>Renovadas</th>\n",
       "      <td>0</td>\n",
       "      <td>12</td>\n",
       "      <td>0</td>\n",
       "      <td>12</td>\n",
       "    </tr>\n",
       "    <tr>\n",
       "      <th>Migração</th>\n",
       "      <td>0</td>\n",
       "      <td>3</td>\n",
       "      <td>82</td>\n",
       "      <td>85</td>\n",
       "    </tr>\n",
       "    <tr>\n",
       "      <th>Canceladas</th>\n",
       "      <td>23</td>\n",
       "      <td>72</td>\n",
       "      <td>105</td>\n",
       "      <td>200</td>\n",
       "    </tr>\n",
       "    <tr>\n",
       "      <th>Total Empresa</th>\n",
       "      <td>2.788</td>\n",
       "      <td>6.933</td>\n",
       "      <td>19.003</td>\n",
       "      <td>28.724</td>\n",
       "    </tr>\n",
       "  </tbody>\n",
       "</table>"
      ],
      "text/plain": [
       "<IPython.core.display.HTML object>"
      ]
     },
     "metadata": {},
     "output_type": "display_data"
    }
   ],
   "source": [
    "from IPython.core.display import display, HTML\n",
    "\n",
    "tabela_html = tabela_df.to_html(classes='tabela')\n",
    "\n",
    "\n",
    "with open(\"tabela.html\", \"w\", encoding=\"utf-8\") as f:\n",
    "    f.write(f\"<html><head><link rel='stylesheet' type='text/css' href='estilo.css'></head><body>{tabela_html}</body></html>\")\n",
    "\n",
    "display(HTML(f\"<style>{open('estilo.css').read()}</style>{tabela_html}\"))"
   ]
  },
  {
   "cell_type": "markdown",
   "metadata": {},
   "source": [
    "e-mail"
   ]
  },
  {
   "cell_type": "code",
   "execution_count": 17,
   "metadata": {},
   "outputs": [],
   "source": [
    "# import pandas as pd\n",
    "# import win32com.client as win32\n",
    "# import pythoncom\n",
    "\n",
    "# pythoncom.CoInitialize()\n",
    "\n",
    "# # Garantir que a coluna de data está no formato correto\n",
    "# df_ativadas['data_ativacao'] = pd.to_datetime(df_ativadas['data_ativacao'])\n",
    "\n",
    "# # Pega a data mais recente da coluna\n",
    "# analyzed_day = df_ativadas['data_ativacao'].max().date().strftime('%d/%m/%Y')\n",
    "\n",
    "# # Converte DataFrame para tabela HTML com índice\n",
    "# tabela_html = tabela_df.to_html(classes='tabela', index=True)  # Agora inclui o índice\n",
    "\n",
    "# # CSS embutido no HTML\n",
    "# css_style = \"\"\"\n",
    "#     <style>\n",
    "#         /* Estiliza o cabeçalho das colunas, o índice, a última coluna e a última linha */\n",
    "#         .tabela thead th, \n",
    "#         .tabela tbody th, \n",
    "#         .tabela td:last-child, \n",
    "#         .tabela tbody tr:last-child td {\n",
    "#             background-color: #f0f0f0; /* Cinza claro */\n",
    "#             color: black; /* Fonte preta */\n",
    "#             font-weight: bold; /* Negrito */\n",
    "#             text-align: center; /* Centraliza os cabeçalhos e as células */\n",
    "#             padding: 8px; /* Adiciona espaçamento interno */\n",
    "#         }\n",
    "\n",
    "#         /* Estiliza todas as outras células */\n",
    "#         .tabela td {\n",
    "#             background-color: white; /* Fundo branco */\n",
    "#             color: black; /* Fonte preta */\n",
    "#             text-align: center; /* Centraliza os valores */\n",
    "#             padding: 8px; /* Adiciona espaçamento interno */\n",
    "#         }\n",
    "\n",
    "#         /* Estiliza a célula do total geral (interseção da última linha e última coluna) */\n",
    "#         .tabela tbody tr:last-child td:last-child {\n",
    "#             background-color: #404040; /* Cinza escuro */\n",
    "#             color: white; /* Texto branco */\n",
    "#             font-weight: bold;\n",
    "#         }\n",
    "\n",
    "#         /* Adiciona uma borda superior preta fina à última linha da tabela */\n",
    "#         .tabela tbody tr:last-child {\n",
    "#             border-top: 1px solid black; /* Borda superior preta fina */\n",
    "#         }\n",
    "\n",
    "#         /* Adiciona bordas finas cinza entre as células */\n",
    "#         .tabela th, \n",
    "#         .tabela td {\n",
    "#             border: 1px solid #d9d9d9; /* Cinza claro */\n",
    "#             border-collapse: collapse;\n",
    "#         }\n",
    "\n",
    "#         /* Garante espaçamento e formatação das células */\n",
    "#         .tabela {\n",
    "#             border-spacing: 0;\n",
    "#             border-collapse: collapse;\n",
    "#         }\n",
    "\n",
    "#         /* Formata os valores numéricos para terem duas casas decimais */\n",
    "#         .tabela td {\n",
    "#             font-variant-numeric: tabular-nums;\n",
    "#         }\n",
    "#     </style>\n",
    "# \"\"\"\n",
    "\n",
    "# # Criar o email no Outlook\n",
    "# try:\n",
    "#     outlook = win32.Dispatch(\"Outlook.Application\")\n",
    "#     email = outlook.CreateItem(0)\n",
    "#     email.To = \"dados13@grupounus.com.br\"\n",
    "#     email.Subject = f'[ACOMPANHAMENTO DIÁRIO DE PLACAS] - Relatório de placas ativadas do dia {analyzed_day}'\n",
    "#     email.HTMLBody = f\"\"\"\n",
    "#         <html>\n",
    "#         <head>\n",
    "#             {css_style}  <!-- Inclui o CSS no e-mail -->\n",
    "#         </head>\n",
    "#         <body>\n",
    "#             <p>Prezado(a),</p>\n",
    "#             <p>A seguir, o resultado de placas ativas disposto em modelo tabular, por empresa:</p>\n",
    "\n",
    "#             {tabela_html}  <!-- Insere a tabela formatada -->\n",
    "\n",
    "#             <p>O total de placas do dia anterior foi de x, logo, com um <b>(acréscimo ou decréscimo)</b> de <b>y</b> placas ativas.</p> \n",
    "\n",
    "#             <p>Atenciosamente,</p>\n",
    "#             <p>Equipe Análise de Dados - Grupo Unus</p>\n",
    "#             <p><i>Este é um e-mail automático, por favor não responda</i></p>\n",
    "#         </body>\n",
    "#         </html>\n",
    "#     \"\"\"\n",
    "\n",
    "#     email.Send()\n",
    "#     print(\"Email enviado com sucesso!\")\n",
    "\n",
    "# except Exception as e:\n",
    "#     print(f\"Erro ao enviar o e-mail: {e}\")"
   ]
  },
  {
   "cell_type": "code",
   "execution_count": null,
   "metadata": {},
   "outputs": [],
   "source": [
    "import time\n",
    "import pyautogui\n",
    "\n",
    "pyautogui.hotkey('win', 'e')\n",
    "\n",
    "pyautogui.hotkey('shift', 'tab')\n",
    "\n",
    "\n",
    "for _ in range(3):  \n",
    "    pyautogui.press('down')\n",
    "    \n",
    "\n",
    "pyautogui.press('enter')\n",
    "time.sleep(1)\n",
    "\n",
    "# Pasta documents\n",
    "pyautogui.hotkey('ctrl', 'e')\n",
    "\n",
    "pyautogui.hotkey('shift', 'tab')\n",
    "\n",
    "pyautogui.press('right')\n",
    "\n",
    "pyautogui.hotkey('shift', 'down')\n",
    "\n",
    "\n",
    "for _ in range(6):\n",
    "    pyautogui.press('down')\n",
    "    \n",
    "\n",
    "pyautogui.press('enter')\n",
    "time.sleep(1)\n",
    "\n",
    "# Pasta processos\n",
    "pyautogui.hotkey('ctrl', 'e')\n",
    "\n",
    "pyautogui.hotkey('shift', 'tab')\n",
    "\n",
    "for _ in range(2):\n",
    "    pyautogui.press('right')\n",
    "    \n",
    "pyautogui.hotkey('shift', 'down')\n",
    "\n",
    "pyautogui.press('enter')\n",
    "time.sleep(1)\n",
    "\n",
    "# Pasta ativacoes_placas\n",
    "pyautogui.hotkey('ctrl', 'e')\n",
    "\n",
    "pyautogui.hotkey('shift', 'tab')\n",
    "\n",
    "for _ in range(3):\n",
    "    pyautogui.press('right')\n",
    "    \n",
    "pyautogui.hotkey('shift', 'down')\n",
    "\n",
    "pyautogui.press('enter')\n",
    "time.sleep(1)\n",
    "\n",
    "# Pasta python\n",
    "pyautogui.hotkey('ctrl', 'e')\n",
    "time.sleep(1)\n",
    "pyautogui.write('tabela_placas_ativas.png')\n",
    "time.sleep(2)\n",
    "for _ in range(4):\n",
    "    pyautogui.press('tab')\n",
    "    \n",
    "\n",
    "time.sleep(1)\n",
    "pyautogui.press('down')\n",
    "time.sleep(1)\n",
    "pyautogui.hotkey('ctrl', 'c')\n",
    "time.sleep(1)\n",
    "\n",
    "\n",
    "#whatsapp\n",
    "pyautogui.press('win')\n",
    "time.sleep(1)\n",
    "pyautogui.write('whatsapp')\n",
    "time.sleep(1)\n",
    "pyautogui.press('enter')  \n",
    "time.sleep(4)\n",
    "pyautogui.write('raphael')  \n",
    "time.sleep(1)\n",
    "pyautogui.press('down')\n",
    "time.sleep(1)\n",
    "pyautogui.press('enter')\n",
    "time.sleep(1)\n",
    "pyautogui.hotkey('ctrl', 'v')\n",
    "time.sleep(1)\n",
    "for _ in range(4):\n",
    "    pyautogui.press('tab')\n",
    "time.sleep(1)\n",
    "pyautogui.press('enter')\n",
    "\n"
   ]
  },
  {
   "cell_type": "code",
   "execution_count": null,
   "metadata": {},
   "outputs": [],
   "source": [
    "import time\n",
    "import pyautogui\n",
    "\n",
    "pyautogui.press('win')\n",
    "time.sleep(1)\n",
    "pyautogui.write('whatsapp')\n",
    "time.sleep(1)\n",
    "pyautogui.press('enter')  \n",
    "time.sleep(4)\n",
    "pyautogui.write('raphael')  \n",
    "time.sleep(1)\n",
    "pyautogui.press('down')\n",
    "time.sleep(1)\n",
    "pyautogui.press('enter')\n",
    "time.sleep(1)\n",
    "pyautogui.hotkey('ctrl', 'v')\n",
    "pyautogui.press('tab')\n",
    "pyautogui.press('enter')"
   ]
  },
  {
   "cell_type": "code",
   "execution_count": 22,
   "metadata": {},
   "outputs": [
    {
     "name": "stdout",
     "output_type": "stream",
     "text": [
      "Tabela salva como tabela_placas_ativas.png\n"
     ]
    }
   ],
   "source": [
    "import pandas as pd\n",
    "import matplotlib.pyplot as plt\n",
    "from pandas.plotting import table\n",
    "\n",
    "# Exemplo de DataFrame com 6 linhas (incluindo cabeçalho)\n",
    "\n",
    "\n",
    "# Cria a figura para o gráfico\n",
    "fig, ax = plt.subplots(figsize=(8, 4))  # Ajuste o tamanho conforme necessário\n",
    "\n",
    "# Remove os eixos\n",
    "ax.axis('off')\n",
    "\n",
    "# Cria a tabela no gráfico\n",
    "tbl = table(ax, tabela_df, loc='center', colWidths=[0.2]*len(tabela_df.columns))\n",
    "\n",
    "# Ajusta a fonte e o estilo da tabela\n",
    "tbl.auto_set_font_size(False)\n",
    "tbl.set_fontsize(12)\n",
    "tbl.scale(1.2, 1.5)  # Aumenta ligeiramente o espaçamento vertical\n",
    "\n",
    "# Formatação de células (estilo CSS implementado no Python)\n",
    "for key, cell in tbl.get_celld().items():\n",
    "    cell.set_text_props(horizontalalignment='center', verticalalignment='center')  # Centraliza tudo\n",
    "    \n",
    "    if key[0] == 0:  # Cabeçalhos (primeira linha da tabela)\n",
    "        cell.set_text_props(fontweight='bold', color='black')  # Ajusta o peso da fonte e cor\n",
    "        cell.set_facecolor('#d9d9d9')  # Cor de fundo cinza para cabeçalho\n",
    "    elif key[1] == len(tabela_df.columns) - 1:  # Última coluna\n",
    "        cell.set_text_props(fontweight='bold', color='black')  # Ajusta o peso da fonte e cor\n",
    "        cell.set_facecolor('#d9d9d9')  # Cor de fundo cinza para última coluna\n",
    "    elif key[0] == 5:  # Última linha (índice 5, contando com cabeçalho)\n",
    "        cell.set_text_props(fontweight='bold', color='black')  # Negrito para a sexta linha\n",
    "        cell.set_facecolor('#d9d9d9')  # Cor de fundo cinza para a sexta linha\n",
    "    if key == (5, len(tabela_df.columns) - 1):  # Última célula específica\n",
    "        cell.set_text_props(fontweight='bold', color='white')  # Texto branco em negrito\n",
    "        cell.set_facecolor('#4d4d4d')  # Fundo cinza escuro\n",
    "\n",
    "# Salva a imagem PNG\n",
    "output_path = \"tabela_placas_ativas.png\"\n",
    "plt.savefig(output_path, format='png', bbox_inches='tight', dpi=300)\n",
    "\n",
    "# Fecha o gráfico\n",
    "plt.close()\n",
    "\n",
    "print(f\"Tabela salva como {output_path}\")\n"
   ]
  }
 ],
 "metadata": {
  "kernelspec": {
   "display_name": "Python 3",
   "language": "python",
   "name": "python3"
  },
  "language_info": {
   "codemirror_mode": {
    "name": "ipython",
    "version": 3
   },
   "file_extension": ".py",
   "mimetype": "text/x-python",
   "name": "python",
   "nbconvert_exporter": "python",
   "pygments_lexer": "ipython3",
   "version": "3.12.4"
  }
 },
 "nbformat": 4,
 "nbformat_minor": 2
}
