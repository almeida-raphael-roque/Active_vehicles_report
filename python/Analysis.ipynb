{
 "cells": [
  {
   "cell_type": "code",
   "execution_count": 4,
   "metadata": {},
   "outputs": [],
   "source": [
    "import pandas as pd\n",
    "import openpyxl\n"
   ]
  },
  {
   "cell_type": "code",
   "execution_count": 5,
   "metadata": {},
   "outputs": [],
   "source": [
    "excel_path = r\"C:\\Users\\raphael.almeida\\Documents\\Processos\\ativacoes_placas\\acompanhamento_placas.xlsx\"\n",
    "\n",
    "df_ativadas = pd.read_excel(excel_path, sheet_name='Ativadas', engine='openpyxl')\n",
    "df_movimentacao = pd.read_excel(excel_path, sheet_name='Movimentações', engine='openpyxl')\n",
    "df_canceladas = pd.read_excel(excel_path, sheet_name='Canceladas', engine='openpyxl')"
   ]
  },
  {
   "cell_type": "markdown",
   "metadata": {},
   "source": [
    "placas movimentação Segtruck"
   ]
  },
  {
   "cell_type": "code",
   "execution_count": 6,
   "metadata": {},
   "outputs": [
    {
     "name": "stdout",
     "output_type": "stream",
     "text": [
      "0 0 0 24\n"
     ]
    }
   ],
   "source": [
    "df_movimentacao.drop_duplicates()\n",
    "\n",
    "NOVO_Segtruck = len(\n",
    "    df_movimentacao[\n",
    "        (df_movimentacao['status'] == 'NOVO')&\n",
    "        (df_movimentacao['cooperativa'] == 'Segtruck')\n",
    "    ]\n",
    ")\n",
    "\n",
    "RENOVAÇÃO_Segtruck = len(\n",
    "    df_movimentacao[\n",
    "        (df_movimentacao['status'] == 'RENOVAÇÃO')&\n",
    "        (df_movimentacao['cooperativa'] == 'Segtruck')\n",
    "    ]\n",
    ")\n",
    "\n",
    "MIGRAÇÃO_Segtruck = len(\n",
    "    df_movimentacao[\n",
    "        (df_movimentacao['status'] == 'MIGRAÇÃO')&\n",
    "        (df_movimentacao['cooperativa'] == 'Segtruck')\n",
    "    ]\n",
    ")\n",
    "\n",
    "df_canceladas.drop_duplicates()\n",
    "CANCELADAS_Segtruck = len(df_canceladas[\n",
    "    (df_canceladas['cooperativa']=='Segtruck')&\n",
    "    (df_canceladas['status']=='CANCELADO')\n",
    "    ]\n",
    ")\n",
    "\n",
    "print(\n",
    "    NOVO_Segtruck,\n",
    "    RENOVAÇÃO_Segtruck,\n",
    "    MIGRAÇÃO_Segtruck,\n",
    "    CANCELADAS_Segtruck\n",
    ")"
   ]
  },
  {
   "cell_type": "markdown",
   "metadata": {},
   "source": [
    "placas movimentação Stcoop"
   ]
  },
  {
   "cell_type": "code",
   "execution_count": 7,
   "metadata": {},
   "outputs": [
    {
     "name": "stdout",
     "output_type": "stream",
     "text": [
      "0 4 1 11\n"
     ]
    }
   ],
   "source": [
    "df_movimentacao.drop_duplicates()\n",
    "\n",
    "NOVO_Stcoop = len(\n",
    "    df_movimentacao[\n",
    "        (df_movimentacao['status'] == 'NOVO')&\n",
    "        (df_movimentacao['cooperativa'] == 'Stcoop')\n",
    "    ]\n",
    ")\n",
    "\n",
    "RENOVAÇÃO_Stcoop = len(\n",
    "    df_movimentacao[\n",
    "        (df_movimentacao['status'] == 'RENOVAÇÃO')&\n",
    "        (df_movimentacao['cooperativa'] == 'Stcoop')\n",
    "    ]\n",
    ")\n",
    "\n",
    "MIGRAÇÃO_Stcoop = len(\n",
    "    df_movimentacao[\n",
    "        (df_movimentacao['status'] == 'MIGRAÇÃO')&\n",
    "        (df_movimentacao['cooperativa'] == 'Stcoop')\n",
    "    ]\n",
    ")\n",
    "\n",
    "df_canceladas.drop_duplicates()\n",
    "CANCELADAS_Stcoop = len(df_canceladas[\n",
    "    (df_canceladas['cooperativa']=='Stcoop')&\n",
    "    (df_canceladas['status']=='CANCELADO')\n",
    "    ]\n",
    ")\n",
    "\n",
    "print(\n",
    "    NOVO_Stcoop,\n",
    "    RENOVAÇÃO_Stcoop,\n",
    "    MIGRAÇÃO_Stcoop,\n",
    "    CANCELADAS_Stcoop\n",
    ")"
   ]
  },
  {
   "cell_type": "markdown",
   "metadata": {},
   "source": [
    "placas movimentação Viavante"
   ]
  },
  {
   "cell_type": "code",
   "execution_count": 8,
   "metadata": {},
   "outputs": [
    {
     "name": "stdout",
     "output_type": "stream",
     "text": [
      "241 3 44 32\n"
     ]
    }
   ],
   "source": [
    "df_movimentacao.drop_duplicates()\n",
    "\n",
    "NOVO_Viavante = len(\n",
    "    df_movimentacao[\n",
    "        (df_movimentacao['status'] == 'NOVO')&\n",
    "        (df_movimentacao['cooperativa'] == 'Viavante')\n",
    "    ]\n",
    ")\n",
    "\n",
    "RENOVAÇÃO_Viavante = len(\n",
    "    df_movimentacao[\n",
    "        (df_movimentacao['status'] == 'RENOVAÇÃO')&\n",
    "        (df_movimentacao['cooperativa'] == 'Viavante')\n",
    "    ]\n",
    ")\n",
    "\n",
    "MIGRAÇÃO_Viavante = len(\n",
    "    df_movimentacao[\n",
    "        (df_movimentacao['status'] == 'MIGRAÇÃO')&\n",
    "        (df_movimentacao['cooperativa'] == 'Viavante')\n",
    "    ]\n",
    ")\n",
    "\n",
    "df_canceladas.drop_duplicates()\n",
    "CANCELADAS_Viavante = len(df_canceladas[\n",
    "    (df_canceladas['cooperativa']=='Viavante')&\n",
    "    (df_canceladas['status']=='CANCELADO')\n",
    "    ]\n",
    ")\n",
    "    \n",
    "\n",
    "print(\n",
    "    NOVO_Viavante,\n",
    "    RENOVAÇÃO_Viavante,\n",
    "    MIGRAÇÃO_Viavante,\n",
    "    CANCELADAS_Viavante\n",
    ")"
   ]
  },
  {
   "cell_type": "markdown",
   "metadata": {},
   "source": [
    "movimentação gerais"
   ]
  },
  {
   "cell_type": "code",
   "execution_count": 9,
   "metadata": {},
   "outputs": [
    {
     "name": "stdout",
     "output_type": "stream",
     "text": [
      "241 7 45 67\n"
     ]
    }
   ],
   "source": [
    "geral_novas=NOVO_Viavante+NOVO_Stcoop+NOVO_Segtruck\n",
    "geral_renovadas=RENOVAÇÃO_Viavante+RENOVAÇÃO_Stcoop+RENOVAÇÃO_Segtruck\n",
    "geral_migracao=MIGRAÇÃO_Viavante+MIGRAÇÃO_Stcoop+MIGRAÇÃO_Segtruck\n",
    "geral_canceladas=CANCELADAS_Viavante+CANCELADAS_Stcoop+CANCELADAS_Segtruck\n",
    "\n",
    "print(\n",
    "    geral_novas,\n",
    "    geral_renovadas,\n",
    "    geral_migracao,\n",
    "    geral_canceladas\n",
    ")\n"
   ]
  },
  {
   "cell_type": "markdown",
   "metadata": {},
   "source": [
    "placas gerais"
   ]
  },
  {
   "cell_type": "code",
   "execution_count": 10,
   "metadata": {},
   "outputs": [
    {
     "name": "stdout",
     "output_type": "stream",
     "text": [
      "28711 2820 6968 18923\n"
     ]
    }
   ],
   "source": [
    "df_ativadas.drop_duplicates()\n",
    "\n",
    "geral_hoje = len(df_ativadas[df_ativadas['status']=='ATIVO'])\n",
    "\n",
    "geral_segtruck = len(\n",
    "    df_ativadas[\n",
    "    (df_ativadas['status']=='ATIVO')&\n",
    "    (df_ativadas['cooperativa']=='Segtruck')\n",
    "    ]\n",
    ")\n",
    "\n",
    "geral_stcoop = len(\n",
    "    df_ativadas[\n",
    "    (df_ativadas['status']=='ATIVO')&\n",
    "    (df_ativadas['cooperativa']=='Stcoop')\n",
    "    ]\n",
    ")\n",
    "\n",
    "geral_viavante = len(\n",
    "    df_ativadas[\n",
    "    (df_ativadas['status']=='ATIVO')&\n",
    "    (df_ativadas['cooperativa']=='Viavante')\n",
    "    ]\n",
    ")\n",
    "\n",
    "print(\n",
    "    geral_hoje,\n",
    "    geral_segtruck,\n",
    "    geral_stcoop,\n",
    "    geral_viavante\n",
    ")\n"
   ]
  },
  {
   "cell_type": "markdown",
   "metadata": {},
   "source": [
    "informações relevantes"
   ]
  },
  {
   "cell_type": "code",
   "execution_count": 11,
   "metadata": {},
   "outputs": [
    {
     "name": "stdout",
     "output_type": "stream",
     "text": [
      "28711 28537 174\n"
     ]
    }
   ],
   "source": [
    "geral_ontem = geral_hoje - geral_novas + geral_canceladas\n",
    "saldo = geral_hoje - geral_ontem\n",
    "print(\n",
    "    geral_hoje,\n",
    "    geral_ontem,\n",
    "    saldo\n",
    "    )"
   ]
  },
  {
   "cell_type": "markdown",
   "metadata": {},
   "source": [
    "tabela dataframe"
   ]
  },
  {
   "cell_type": "code",
   "execution_count": 32,
   "metadata": {},
   "outputs": [
    {
     "name": "stderr",
     "output_type": "stream",
     "text": [
      "C:\\Users\\raphael.almeida\\AppData\\Local\\Temp\\ipykernel_26288\\1741883796.py:9: FutureWarning: DataFrame.applymap has been deprecated. Use DataFrame.map instead.\n",
      "  tabela_df = tabela_df.applymap(lambda x: f\"{x:,.0f}\".replace(',', '.') if isinstance(x, (int, float)) else x)\n"
     ]
    }
   ],
   "source": [
    "índices = ['Novas', 'Renovadas', 'Migração', 'Canceladas', 'Total']\n",
    "tabela = {'Segtruck': [NOVO_Segtruck, RENOVAÇÃO_Segtruck, MIGRAÇÃO_Segtruck, CANCELADAS_Segtruck, geral_segtruck],\n",
    "              'Stcoop': [NOVO_Stcoop, RENOVAÇÃO_Stcoop, MIGRAÇÃO_Stcoop, CANCELADAS_Stcoop, geral_stcoop],\n",
    "              'Viavante': [NOVO_Viavante, RENOVAÇÃO_Viavante, MIGRAÇÃO_Viavante, CANCELADAS_Viavante, geral_viavante],\n",
    "              'Total': [geral_novas, geral_renovadas, geral_migracao, geral_canceladas, geral_hoje]}\n",
    "\n",
    "tabela_df = pd.DataFrame(tabela, index = índices)\n",
    "\n",
    "tabela_df = tabela_df.applymap(lambda x: f\"{x:,.0f}\".replace(',', '.') if isinstance(x, (int, float)) else x)\n",
    "\n",
    "\n"
   ]
  },
  {
   "cell_type": "markdown",
   "metadata": {},
   "source": [
    "tabela html"
   ]
  },
  {
   "cell_type": "code",
   "execution_count": 33,
   "metadata": {},
   "outputs": [
    {
     "name": "stderr",
     "output_type": "stream",
     "text": [
      "C:\\Users\\raphael.almeida\\AppData\\Local\\Temp\\ipykernel_26288\\3556877615.py:1: DeprecationWarning: Importing display from IPython.core.display is deprecated since IPython 7.14, please import from IPython display\n",
      "  from IPython.core.display import display, HTML\n"
     ]
    },
    {
     "data": {
      "text/html": [
       "<style>/* Estiliza o cabeÃ§alho das colunas, o Ã­ndice, a Ãºltima coluna e a Ãºltima linha */\n",
       ".tabela thead th, \n",
       ".tabela tbody th, \n",
       ".tabela td:last-child, \n",
       ".tabela tbody tr:last-child td {\n",
       "    background-color: #f0f0f0; /* Cinza claro */\n",
       "    color: black; /* Fonte preta */\n",
       "    font-weight: bold; /* Negrito */\n",
       "}\n",
       "\n",
       "/* Estiliza todas as outras cÃ©lulas */\n",
       ".tabela td {\n",
       "    background-color: white; /* Fundo branco */\n",
       "    color: black; /* Fonte preta */\n",
       "    text-align: center; /* Centraliza os valores */\n",
       "}\n",
       "\n",
       "/* Estiliza a cÃ©lula do total geral (interseÃ§Ã£o da Ãºltima linha e Ãºltima coluna) */\n",
       ".tabela tbody tr:last-child td:last-child {\n",
       "    background-color: #404040; /* Cinza escuro */\n",
       "    color: white; /* Texto branco */\n",
       "    font-weight: bold;\n",
       "}\n",
       "\n",
       "/* Adiciona bordas suaves entre as cÃ©lulas */\n",
       ".tabela th, \n",
       ".tabela td {\n",
       "    border: 1px solid #d9d9d9; /* Cinza claro */\n",
       "    border-collapse: collapse;\n",
       "}\n",
       "\n",
       "/* Garante espaÃ§amento e formataÃ§Ã£o das cÃ©lulas */\n",
       ".tabela {\n",
       "    border-spacing: 0;\n",
       "    border-collapse: collapse;\n",
       "}\n",
       "\n",
       "/* Formata os valores numÃ©ricos para terem duas casas decimais */\n",
       ".tabela td {\n",
       "    font-variant-numeric: tabular-nums;\n",
       "}</style><table border=\"1\" class=\"dataframe tabela\">\n",
       "  <thead>\n",
       "    <tr style=\"text-align: right;\">\n",
       "      <th></th>\n",
       "      <th>Segtruck</th>\n",
       "      <th>Stcoop</th>\n",
       "      <th>Viavante</th>\n",
       "      <th>Total</th>\n",
       "    </tr>\n",
       "  </thead>\n",
       "  <tbody>\n",
       "    <tr>\n",
       "      <th>Novas</th>\n",
       "      <td>0</td>\n",
       "      <td>0</td>\n",
       "      <td>241</td>\n",
       "      <td>241</td>\n",
       "    </tr>\n",
       "    <tr>\n",
       "      <th>Renovadas</th>\n",
       "      <td>0</td>\n",
       "      <td>4</td>\n",
       "      <td>3</td>\n",
       "      <td>7</td>\n",
       "    </tr>\n",
       "    <tr>\n",
       "      <th>Migração</th>\n",
       "      <td>0</td>\n",
       "      <td>1</td>\n",
       "      <td>44</td>\n",
       "      <td>45</td>\n",
       "    </tr>\n",
       "    <tr>\n",
       "      <th>Canceladas</th>\n",
       "      <td>24</td>\n",
       "      <td>11</td>\n",
       "      <td>32</td>\n",
       "      <td>67</td>\n",
       "    </tr>\n",
       "    <tr>\n",
       "      <th>Total</th>\n",
       "      <td>2.820</td>\n",
       "      <td>6.968</td>\n",
       "      <td>18.923</td>\n",
       "      <td>28.711</td>\n",
       "    </tr>\n",
       "  </tbody>\n",
       "</table>"
      ],
      "text/plain": [
       "<IPython.core.display.HTML object>"
      ]
     },
     "metadata": {},
     "output_type": "display_data"
    }
   ],
   "source": [
    "from IPython.core.display import display, HTML\n",
    "\n",
    "tabela_html = tabela_df.to_html(classes='tabela')\n",
    "\n",
    "# Salva o HTML formatado\n",
    "with open(\"tabela.html\", \"w\", encoding=\"utf-8\") as f:\n",
    "    f.write(f\"<html><head><link rel='stylesheet' type='text/css' href='estilo.css'></head><body>{tabela_html}</body></html>\")\n",
    "\n",
    "display(HTML(f\"<style>{open('estilo.css').read()}</style>{tabela_html}\"))"
   ]
  }
 ],
 "metadata": {
  "kernelspec": {
   "display_name": "Python 3",
   "language": "python",
   "name": "python3"
  },
  "language_info": {
   "codemirror_mode": {
    "name": "ipython",
    "version": 3
   },
   "file_extension": ".py",
   "mimetype": "text/x-python",
   "name": "python",
   "nbconvert_exporter": "python",
   "pygments_lexer": "ipython3",
   "version": "3.12.4"
  }
 },
 "nbformat": 4,
 "nbformat_minor": 2
}
